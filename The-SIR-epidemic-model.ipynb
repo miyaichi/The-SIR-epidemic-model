{
 "cells": [
  {
   "cell_type": "code",
   "execution_count": 1,
   "metadata": {},
   "outputs": [],
   "source": [
    "%matplotlib inline\n",
    "\n",
    "import numpy as np\n",
    "import matplotlib as mpl\n",
    "import matplotlib.pyplot as plt\n",
    "from ipywidgets import interact\n",
    "from scipy.integrate import odeint"
   ]
  },
  {
   "cell_type": "markdown",
   "metadata": {},
   "source": [
    "# 日本語フォントの設定"
   ]
  },
  {
   "cell_type": "code",
   "execution_count": 2,
   "metadata": {},
   "outputs": [],
   "source": [
    "from matplotlib import font_manager\n",
    "font = 'Noto Sans CJK JP'\n",
    "if font not in plt.rcParams['font.family']:\n",
    "    font_manager.fontManager.ttflist.extend(\n",
    "            font_manager.createFontList(font_manager.findSystemFonts()))\n",
    "    plt.rcParams['font.family'] = font"
   ]
  },
  {
   "cell_type": "markdown",
   "metadata": {},
   "source": [
    "# SIRモデルの微分方程式"
   ]
  },
  {
   "cell_type": "code",
   "execution_count": 3,
   "metadata": {},
   "outputs": [],
   "source": [
    "def deriv(y, t, N, beta, gamma):\n",
    "    S, I, R = y\n",
    "    dSdt = -beta * S * I / N\n",
    "    dIdt = beta * S * I / N - gamma * I\n",
    "    dRdt = gamma * I\n",
    "    return dSdt, dIdt, dRdt"
   ]
  },
  {
   "cell_type": "markdown",
   "metadata": {},
   "source": [
    "# 感染率(beta)、回復率(gamma)による変化"
   ]
  },
  {
   "cell_type": "code",
   "execution_count": 4,
   "metadata": {},
   "outputs": [
    {
     "data": {
      "application/vnd.jupyter.widget-view+json": {
       "model_id": "c48224c67c0340c7b0d14b6f494f166e",
       "version_major": 2,
       "version_minor": 0
      },
      "text/plain": [
       "interactive(children=(FloatSlider(value=0.2, description='beta', max=1.0, step=0.01), FloatSlider(value=0.1, d…"
      ]
     },
     "metadata": {},
     "output_type": "display_data"
    }
   ],
   "source": [
    "@interact(beta = (0.0, 1.0, 0.01),  gamma = (0.0, 1.0, 0.01))\n",
    "def update(beta = 0.2, gamma=0.1):\n",
    "    N = 1000  # 総人口(N)\n",
    "    I0, R0 = 1, 0  # 感染者(I)、免疫保持者(R)の初期値\n",
    "    S0 = N - I0 - R0  #  感受性保持者（S)の初期値\n",
    "    t = np.linspace(0, 200,  200)  # 日数\n",
    "    \n",
    "    y0 = S0, I0, R0  # 初期条件ベクトル\n",
    "    ret = odeint(deriv, y0, t, args=(N, beta, gamma)) \n",
    "    S, I, R = ret.T\n",
    "    \n",
    "    fig = plt.figure()\n",
    "    ax = fig.add_subplot(111)\n",
    "    ax.plot(t, S/N, 'b', alpha=0.5, lw=2, label='感受性保持者(S)')\n",
    "    ax.plot(t, I/N, 'r', alpha=0.5, lw=2, label='感染者(I)')\n",
    "    ax.plot(t, R/N, 'g', alpha=0.5, lw=2, label='免疫保持者(R)')\n",
    "    \n",
    "    ax.set_xlabel('時間(t)')\n",
    "    ax.set_ylabel('人口割合')\n",
    "    ax.set_ylim(0,1)\n",
    "    ax.yaxis.set_tick_params(length=0)\n",
    "    ax.yaxis.set_major_formatter(mpl.ticker.PercentFormatter(1.0))\n",
    "    ax.xaxis.set_tick_params(length=0)\n",
    "    ax.grid(b=True, which='major', c='w', lw=2, ls='-')\n",
    "    legend = ax.legend()\n",
    "    legend.get_frame().set_alpha(0.5)\n",
    "    for spine in ('top', 'right', 'bottom', 'left'):\n",
    "        ax.spines[spine].set_visible(False)\n",
    "    plt.show()"
   ]
  },
  {
   "cell_type": "code",
   "execution_count": null,
   "metadata": {},
   "outputs": [],
   "source": []
  }
 ],
 "metadata": {
  "kernelspec": {
   "display_name": "Python 3",
   "language": "python",
   "name": "python3"
  },
  "language_info": {
   "codemirror_mode": {
    "name": "ipython",
    "version": 3
   },
   "file_extension": ".py",
   "mimetype": "text/x-python",
   "name": "python",
   "nbconvert_exporter": "python",
   "pygments_lexer": "ipython3",
   "version": "3.7.3"
  }
 },
 "nbformat": 4,
 "nbformat_minor": 2
}
